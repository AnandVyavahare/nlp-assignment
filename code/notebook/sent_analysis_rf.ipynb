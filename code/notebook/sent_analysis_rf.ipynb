{
 "cells": [
  {
   "cell_type": "code",
   "execution_count": 1,
   "id": "d4c850b2",
   "metadata": {
    "_cell_guid": "b1076dfc-b9ad-4769-8c92-a6c4dae69d19",
    "_uuid": "8f2839f25d086af736a60e9eeb907d3b93b6e0e5",
    "execution": {
     "iopub.execute_input": "2022-01-01T07:41:44.373220Z",
     "iopub.status.busy": "2022-01-01T07:41:44.372562Z",
     "iopub.status.idle": "2022-01-01T07:41:55.183877Z",
     "shell.execute_reply": "2022-01-01T07:41:55.184394Z",
     "shell.execute_reply.started": "2022-01-01T07:33:11.562330Z"
    },
    "papermill": {
     "duration": 10.849865,
     "end_time": "2022-01-01T07:41:55.184701",
     "exception": false,
     "start_time": "2022-01-01T07:41:44.334836",
     "status": "completed"
    },
    "tags": []
   },
   "outputs": [],
   "source": [
    "#Basic Python Libraries\n",
    "import numpy as np # linear algebra\n",
    "import pandas as pd # data processing, CSV file I/O (e.g. pd.read_csv)\n",
    "import os\n",
    "import matplotlib.pyplot as plt\n",
    "import seaborn as sns\n",
    "from wordcloud import WordCloud\n",
    "import re\n",
    "import time\n",
    "import warnings\n",
    "warnings.filterwarnings(\"ignore\") \n",
    "#Natural Language Processing\n",
    "import nltk\n",
    "from nltk.corpus import stopwords\n",
    "from nltk.stem import WordNetLemmatizer\n",
    "#Scikit-Learn (Machine Learning Library for Python)\n",
    "from sklearn.feature_extraction.text import CountVectorizer, TfidfVectorizer\n",
    "from sklearn.model_selection import GridSearchCV\n",
    "from sklearn.ensemble import RandomForestClassifier\n",
    "from sklearn.linear_model import LogisticRegression\n",
    "#Evaluation Metrics\n",
    "from sklearn.metrics import accuracy_score,precision_score,recall_score,confusion_matrix,roc_curve,classification_report\n",
    "from scikitplot.metrics import plot_confusion_matrix\n",
    "import spacy"
   ]
  },
  {
   "cell_type": "code",
   "execution_count": 2,
   "id": "e4edc898",
   "metadata": {
    "execution": {
     "iopub.execute_input": "2022-01-01T07:41:55.239174Z",
     "iopub.status.busy": "2022-01-01T07:41:55.238553Z",
     "iopub.status.idle": "2022-01-01T07:41:55.344673Z",
     "shell.execute_reply": "2022-01-01T07:41:55.344120Z",
     "shell.execute_reply.started": "2022-01-01T07:33:25.477114Z"
    },
    "papermill": {
     "duration": 0.133625,
     "end_time": "2022-01-01T07:41:55.344858",
     "exception": false,
     "start_time": "2022-01-01T07:41:55.211233",
     "status": "completed"
    },
    "tags": []
   },
   "outputs": [],
   "source": [
    "# Loading the csv files into dataframds\n",
    "dev = pd.read_csv('../input/meld-dataset/MELD-RAW/MELD.Raw/dev_sent_emo.csv')\n",
    "train = pd.read_csv('../input/meld-dataset/MELD-RAW/MELD.Raw/train/train_sent_emo.csv')\n",
    "test = pd.read_csv('../input/meld-dataset/MELD-RAW/MELD.Raw/test_sent_emo.csv')"
   ]
  },
  {
   "cell_type": "code",
   "execution_count": 3,
   "id": "99440fe2",
   "metadata": {
    "execution": {
     "iopub.execute_input": "2022-01-01T07:41:55.404556Z",
     "iopub.status.busy": "2022-01-01T07:41:55.403811Z",
     "iopub.status.idle": "2022-01-01T07:41:55.422148Z",
     "shell.execute_reply": "2022-01-01T07:41:55.422658Z",
     "shell.execute_reply.started": "2022-01-01T07:33:25.584060Z"
    },
    "papermill": {
     "duration": 0.052362,
     "end_time": "2022-01-01T07:41:55.422842",
     "exception": false,
     "start_time": "2022-01-01T07:41:55.370480",
     "status": "completed"
    },
    "tags": []
   },
   "outputs": [
    {
     "data": {
      "text/html": [
       "<div>\n",
       "<style scoped>\n",
       "    .dataframe tbody tr th:only-of-type {\n",
       "        vertical-align: middle;\n",
       "    }\n",
       "\n",
       "    .dataframe tbody tr th {\n",
       "        vertical-align: top;\n",
       "    }\n",
       "\n",
       "    .dataframe thead th {\n",
       "        text-align: right;\n",
       "    }\n",
       "</style>\n",
       "<table border=\"1\" class=\"dataframe\">\n",
       "  <thead>\n",
       "    <tr style=\"text-align: right;\">\n",
       "      <th></th>\n",
       "      <th>Sr No.</th>\n",
       "      <th>Utterance</th>\n",
       "      <th>Speaker</th>\n",
       "      <th>Emotion</th>\n",
       "      <th>Sentiment</th>\n",
       "      <th>Dialogue_ID</th>\n",
       "      <th>Utterance_ID</th>\n",
       "      <th>Season</th>\n",
       "      <th>Episode</th>\n",
       "      <th>StartTime</th>\n",
       "      <th>EndTime</th>\n",
       "    </tr>\n",
       "  </thead>\n",
       "  <tbody>\n",
       "    <tr>\n",
       "      <th>0</th>\n",
       "      <td>1</td>\n",
       "      <td>Why do all youre coffee mugs have numbers on ...</td>\n",
       "      <td>Mark</td>\n",
       "      <td>surprise</td>\n",
       "      <td>positive</td>\n",
       "      <td>0</td>\n",
       "      <td>0</td>\n",
       "      <td>3</td>\n",
       "      <td>19</td>\n",
       "      <td>00:14:38,127</td>\n",
       "      <td>00:14:40,378</td>\n",
       "    </tr>\n",
       "    <tr>\n",
       "      <th>1</th>\n",
       "      <td>2</td>\n",
       "      <td>Oh. Thats so Monica can keep track. That way ...</td>\n",
       "      <td>Rachel</td>\n",
       "      <td>anger</td>\n",
       "      <td>negative</td>\n",
       "      <td>0</td>\n",
       "      <td>1</td>\n",
       "      <td>3</td>\n",
       "      <td>19</td>\n",
       "      <td>00:14:40,629</td>\n",
       "      <td>00:14:47,385</td>\n",
       "    </tr>\n",
       "    <tr>\n",
       "      <th>2</th>\n",
       "      <td>3</td>\n",
       "      <td>Y'know what?</td>\n",
       "      <td>Rachel</td>\n",
       "      <td>neutral</td>\n",
       "      <td>neutral</td>\n",
       "      <td>0</td>\n",
       "      <td>2</td>\n",
       "      <td>3</td>\n",
       "      <td>19</td>\n",
       "      <td>00:14:56,353</td>\n",
       "      <td>00:14:57,520</td>\n",
       "    </tr>\n",
       "    <tr>\n",
       "      <th>3</th>\n",
       "      <td>19</td>\n",
       "      <td>Come on, Lydia, you can do it.</td>\n",
       "      <td>Joey</td>\n",
       "      <td>neutral</td>\n",
       "      <td>neutral</td>\n",
       "      <td>1</td>\n",
       "      <td>0</td>\n",
       "      <td>1</td>\n",
       "      <td>23</td>\n",
       "      <td>0:10:44,769</td>\n",
       "      <td>0:10:46,146</td>\n",
       "    </tr>\n",
       "    <tr>\n",
       "      <th>4</th>\n",
       "      <td>20</td>\n",
       "      <td>Push!</td>\n",
       "      <td>Joey</td>\n",
       "      <td>joy</td>\n",
       "      <td>positive</td>\n",
       "      <td>1</td>\n",
       "      <td>1</td>\n",
       "      <td>1</td>\n",
       "      <td>23</td>\n",
       "      <td>0:10:46,146</td>\n",
       "      <td>0:10:46,833</td>\n",
       "    </tr>\n",
       "  </tbody>\n",
       "</table>\n",
       "</div>"
      ],
      "text/plain": [
       "   Sr No.                                          Utterance Speaker  \\\n",
       "0       1  Why do all youre coffee mugs have numbers on ...    Mark   \n",
       "1       2  Oh. Thats so Monica can keep track. That way ...  Rachel   \n",
       "2       3                                       Y'know what?  Rachel   \n",
       "3      19                     Come on, Lydia, you can do it.    Joey   \n",
       "4      20                                              Push!    Joey   \n",
       "\n",
       "    Emotion Sentiment  Dialogue_ID  Utterance_ID  Season  Episode  \\\n",
       "0  surprise  positive            0             0       3       19   \n",
       "1     anger  negative            0             1       3       19   \n",
       "2   neutral   neutral            0             2       3       19   \n",
       "3   neutral   neutral            1             0       1       23   \n",
       "4       joy  positive            1             1       1       23   \n",
       "\n",
       "      StartTime       EndTime  \n",
       "0  00:14:38,127  00:14:40,378  \n",
       "1  00:14:40,629  00:14:47,385  \n",
       "2  00:14:56,353  00:14:57,520  \n",
       "3   0:10:44,769   0:10:46,146  \n",
       "4   0:10:46,146   0:10:46,833  "
      ]
     },
     "execution_count": 3,
     "metadata": {},
     "output_type": "execute_result"
    }
   ],
   "source": [
    "#dev.head()\n",
    "#train.head()\n",
    "test.head()\n"
   ]
  },
  {
   "cell_type": "code",
   "execution_count": 4,
   "id": "36e1e520",
   "metadata": {
    "execution": {
     "iopub.execute_input": "2022-01-01T07:41:55.477460Z",
     "iopub.status.busy": "2022-01-01T07:41:55.476785Z",
     "iopub.status.idle": "2022-01-01T07:41:55.501458Z",
     "shell.execute_reply": "2022-01-01T07:41:55.502045Z",
     "shell.execute_reply.started": "2022-01-01T07:33:25.613146Z"
    },
    "papermill": {
     "duration": 0.053547,
     "end_time": "2022-01-01T07:41:55.502223",
     "exception": false,
     "start_time": "2022-01-01T07:41:55.448676",
     "status": "completed"
    },
    "tags": []
   },
   "outputs": [
    {
     "data": {
      "text/html": [
       "<div>\n",
       "<style scoped>\n",
       "    .dataframe tbody tr th:only-of-type {\n",
       "        vertical-align: middle;\n",
       "    }\n",
       "\n",
       "    .dataframe tbody tr th {\n",
       "        vertical-align: top;\n",
       "    }\n",
       "\n",
       "    .dataframe thead th {\n",
       "        text-align: right;\n",
       "    }\n",
       "</style>\n",
       "<table border=\"1\" class=\"dataframe\">\n",
       "  <thead>\n",
       "    <tr style=\"text-align: right;\">\n",
       "      <th></th>\n",
       "      <th>Sr No.</th>\n",
       "      <th>Utterance</th>\n",
       "      <th>Speaker</th>\n",
       "      <th>Emotion</th>\n",
       "      <th>Sentiment</th>\n",
       "      <th>Dialogue_ID</th>\n",
       "      <th>Utterance_ID</th>\n",
       "      <th>Season</th>\n",
       "      <th>Episode</th>\n",
       "      <th>StartTime</th>\n",
       "      <th>EndTime</th>\n",
       "    </tr>\n",
       "  </thead>\n",
       "  <tbody>\n",
       "    <tr>\n",
       "      <th>0</th>\n",
       "      <td>1</td>\n",
       "      <td>also I was the point person on my companys tr...</td>\n",
       "      <td>Chandler</td>\n",
       "      <td>neutral</td>\n",
       "      <td>neutral</td>\n",
       "      <td>0</td>\n",
       "      <td>0</td>\n",
       "      <td>8</td>\n",
       "      <td>21</td>\n",
       "      <td>00:16:16,059</td>\n",
       "      <td>00:16:21,731</td>\n",
       "    </tr>\n",
       "    <tr>\n",
       "      <th>1</th>\n",
       "      <td>2</td>\n",
       "      <td>You mustve had your hands full.</td>\n",
       "      <td>The Interviewer</td>\n",
       "      <td>neutral</td>\n",
       "      <td>neutral</td>\n",
       "      <td>0</td>\n",
       "      <td>1</td>\n",
       "      <td>8</td>\n",
       "      <td>21</td>\n",
       "      <td>00:16:21,940</td>\n",
       "      <td>00:16:23,442</td>\n",
       "    </tr>\n",
       "    <tr>\n",
       "      <th>2</th>\n",
       "      <td>3</td>\n",
       "      <td>That I did. That I did.</td>\n",
       "      <td>Chandler</td>\n",
       "      <td>neutral</td>\n",
       "      <td>neutral</td>\n",
       "      <td>0</td>\n",
       "      <td>2</td>\n",
       "      <td>8</td>\n",
       "      <td>21</td>\n",
       "      <td>00:16:23,442</td>\n",
       "      <td>00:16:26,389</td>\n",
       "    </tr>\n",
       "    <tr>\n",
       "      <th>3</th>\n",
       "      <td>4</td>\n",
       "      <td>So lets talk a little bit about your duties.</td>\n",
       "      <td>The Interviewer</td>\n",
       "      <td>neutral</td>\n",
       "      <td>neutral</td>\n",
       "      <td>0</td>\n",
       "      <td>3</td>\n",
       "      <td>8</td>\n",
       "      <td>21</td>\n",
       "      <td>00:16:26,820</td>\n",
       "      <td>00:16:29,572</td>\n",
       "    </tr>\n",
       "    <tr>\n",
       "      <th>4</th>\n",
       "      <td>5</td>\n",
       "      <td>My duties?  All right.</td>\n",
       "      <td>Chandler</td>\n",
       "      <td>surprise</td>\n",
       "      <td>positive</td>\n",
       "      <td>0</td>\n",
       "      <td>4</td>\n",
       "      <td>8</td>\n",
       "      <td>21</td>\n",
       "      <td>00:16:34,452</td>\n",
       "      <td>00:16:40,917</td>\n",
       "    </tr>\n",
       "    <tr>\n",
       "      <th>...</th>\n",
       "      <td>...</td>\n",
       "      <td>...</td>\n",
       "      <td>...</td>\n",
       "      <td>...</td>\n",
       "      <td>...</td>\n",
       "      <td>...</td>\n",
       "      <td>...</td>\n",
       "      <td>...</td>\n",
       "      <td>...</td>\n",
       "      <td>...</td>\n",
       "      <td>...</td>\n",
       "    </tr>\n",
       "    <tr>\n",
       "      <th>1104</th>\n",
       "      <td>1174</td>\n",
       "      <td>No.</td>\n",
       "      <td>Monica</td>\n",
       "      <td>sadness</td>\n",
       "      <td>negative</td>\n",
       "      <td>113</td>\n",
       "      <td>9</td>\n",
       "      <td>6</td>\n",
       "      <td>2</td>\n",
       "      <td>00:19:28,792</td>\n",
       "      <td>00:19:29,876</td>\n",
       "    </tr>\n",
       "    <tr>\n",
       "      <th>1105</th>\n",
       "      <td>1175</td>\n",
       "      <td>What? Oh my God! Im gonna miss you so much!</td>\n",
       "      <td>Rachel</td>\n",
       "      <td>sadness</td>\n",
       "      <td>negative</td>\n",
       "      <td>113</td>\n",
       "      <td>10</td>\n",
       "      <td>6</td>\n",
       "      <td>2</td>\n",
       "      <td>00:19:33,213</td>\n",
       "      <td>00:19:35,965</td>\n",
       "    </tr>\n",
       "    <tr>\n",
       "      <th>1106</th>\n",
       "      <td>1176</td>\n",
       "      <td>Im gonna miss you!</td>\n",
       "      <td>Monica</td>\n",
       "      <td>sadness</td>\n",
       "      <td>negative</td>\n",
       "      <td>113</td>\n",
       "      <td>11</td>\n",
       "      <td>6</td>\n",
       "      <td>2</td>\n",
       "      <td>00:19:36,175</td>\n",
       "      <td>00:19:37,967</td>\n",
       "    </tr>\n",
       "    <tr>\n",
       "      <th>1107</th>\n",
       "      <td>1177</td>\n",
       "      <td>I mean its the end of an era!</td>\n",
       "      <td>Rachel</td>\n",
       "      <td>sadness</td>\n",
       "      <td>negative</td>\n",
       "      <td>113</td>\n",
       "      <td>12</td>\n",
       "      <td>6</td>\n",
       "      <td>2</td>\n",
       "      <td>00:19:39,094</td>\n",
       "      <td>00:19:40,928</td>\n",
       "    </tr>\n",
       "    <tr>\n",
       "      <th>1108</th>\n",
       "      <td>1178</td>\n",
       "      <td>I know!</td>\n",
       "      <td>Monica</td>\n",
       "      <td>sadness</td>\n",
       "      <td>negative</td>\n",
       "      <td>113</td>\n",
       "      <td>13</td>\n",
       "      <td>6</td>\n",
       "      <td>2</td>\n",
       "      <td>00:19:41,138</td>\n",
       "      <td>00:19:42,638</td>\n",
       "    </tr>\n",
       "  </tbody>\n",
       "</table>\n",
       "<p>11098 rows × 11 columns</p>\n",
       "</div>"
      ],
      "text/plain": [
       "      Sr No.                                          Utterance  \\\n",
       "0          1  also I was the point person on my companys tr...   \n",
       "1          2                   You mustve had your hands full.   \n",
       "2          3                            That I did. That I did.   \n",
       "3          4      So lets talk a little bit about your duties.   \n",
       "4          5                             My duties?  All right.   \n",
       "...      ...                                                ...   \n",
       "1104    1174                                                No.   \n",
       "1105    1175       What? Oh my God! Im gonna miss you so much!   \n",
       "1106    1176                                Im gonna miss you!   \n",
       "1107    1177                     I mean its the end of an era!   \n",
       "1108    1178                                            I know!   \n",
       "\n",
       "              Speaker   Emotion Sentiment  Dialogue_ID  Utterance_ID  Season  \\\n",
       "0            Chandler   neutral   neutral            0             0       8   \n",
       "1     The Interviewer   neutral   neutral            0             1       8   \n",
       "2            Chandler   neutral   neutral            0             2       8   \n",
       "3     The Interviewer   neutral   neutral            0             3       8   \n",
       "4            Chandler  surprise  positive            0             4       8   \n",
       "...               ...       ...       ...          ...           ...     ...   \n",
       "1104           Monica   sadness  negative          113             9       6   \n",
       "1105           Rachel   sadness  negative          113            10       6   \n",
       "1106           Monica   sadness  negative          113            11       6   \n",
       "1107           Rachel   sadness  negative          113            12       6   \n",
       "1108           Monica   sadness  negative          113            13       6   \n",
       "\n",
       "      Episode     StartTime       EndTime  \n",
       "0          21  00:16:16,059  00:16:21,731  \n",
       "1          21  00:16:21,940  00:16:23,442  \n",
       "2          21  00:16:23,442  00:16:26,389  \n",
       "3          21  00:16:26,820  00:16:29,572  \n",
       "4          21  00:16:34,452  00:16:40,917  \n",
       "...       ...           ...           ...  \n",
       "1104        2  00:19:28,792  00:19:29,876  \n",
       "1105        2  00:19:33,213  00:19:35,965  \n",
       "1106        2  00:19:36,175  00:19:37,967  \n",
       "1107        2  00:19:39,094  00:19:40,928  \n",
       "1108        2  00:19:41,138  00:19:42,638  \n",
       "\n",
       "[11098 rows x 11 columns]"
      ]
     },
     "execution_count": 4,
     "metadata": {},
     "output_type": "execute_result"
    }
   ],
   "source": [
    "# We will work with only two dataframes- one for training and other for testing\n",
    "train_dev = pd.concat([train,dev])\n",
    "train_dev"
   ]
  },
  {
   "cell_type": "code",
   "execution_count": 5,
   "id": "927cc54a",
   "metadata": {
    "execution": {
     "iopub.execute_input": "2022-01-01T07:41:55.559763Z",
     "iopub.status.busy": "2022-01-01T07:41:55.559106Z",
     "iopub.status.idle": "2022-01-01T07:41:55.561436Z",
     "shell.execute_reply": "2022-01-01T07:41:55.560896Z",
     "shell.execute_reply.started": "2022-01-01T07:33:25.643670Z"
    },
    "papermill": {
     "duration": 0.033214,
     "end_time": "2022-01-01T07:41:55.561570",
     "exception": false,
     "start_time": "2022-01-01T07:41:55.528356",
     "status": "completed"
    },
    "tags": []
   },
   "outputs": [],
   "source": [
    "# Since we have concatenated the dataframes, resetting the indexes of the new one\n",
    "train_dev.reset_index(inplace=True,drop=True)"
   ]
  },
  {
   "cell_type": "code",
   "execution_count": 6,
   "id": "066b6046",
   "metadata": {
    "execution": {
     "iopub.execute_input": "2022-01-01T07:41:55.622477Z",
     "iopub.status.busy": "2022-01-01T07:41:55.621715Z",
     "iopub.status.idle": "2022-01-01T07:41:55.626776Z",
     "shell.execute_reply": "2022-01-01T07:41:55.627327Z",
     "shell.execute_reply.started": "2022-01-01T07:33:25.650734Z"
    },
    "papermill": {
     "duration": 0.039364,
     "end_time": "2022-01-01T07:41:55.627502",
     "exception": false,
     "start_time": "2022-01-01T07:41:55.588138",
     "status": "completed"
    },
    "tags": []
   },
   "outputs": [],
   "source": [
    "# We will need only two columns for our sentiment analysis\n",
    "sent = train_dev[['Utterance','Sentiment']]"
   ]
  },
  {
   "cell_type": "code",
   "execution_count": 7,
   "id": "4f1e342b",
   "metadata": {
    "execution": {
     "iopub.execute_input": "2022-01-01T07:41:55.686124Z",
     "iopub.status.busy": "2022-01-01T07:41:55.685447Z",
     "iopub.status.idle": "2022-01-01T07:41:55.688371Z",
     "shell.execute_reply": "2022-01-01T07:41:55.687904Z",
     "shell.execute_reply.started": "2022-01-01T07:33:25.676744Z"
    },
    "papermill": {
     "duration": 0.034802,
     "end_time": "2022-01-01T07:41:55.688513",
     "exception": false,
     "start_time": "2022-01-01T07:41:55.653711",
     "status": "completed"
    },
    "tags": []
   },
   "outputs": [],
   "source": [
    "# For our ML model to understand we will map the sentiments to numbers\n",
    "def custom_encoder(df):\n",
    "    df.replace(to_replace =\"positive\", value = 1, inplace=True)\n",
    "    df.replace(to_replace =\"neutral\", value = 0, inplace=True)\n",
    "    df.replace(to_replace =\"negative\", value = -1, inplace=True)"
   ]
  },
  {
   "cell_type": "code",
   "execution_count": 8,
   "id": "80aa16ca",
   "metadata": {
    "execution": {
     "iopub.execute_input": "2022-01-01T07:41:55.748089Z",
     "iopub.status.busy": "2022-01-01T07:41:55.746571Z",
     "iopub.status.idle": "2022-01-01T07:41:55.758835Z",
     "shell.execute_reply": "2022-01-01T07:41:55.758283Z",
     "shell.execute_reply.started": "2022-01-01T07:33:25.687284Z"
    },
    "papermill": {
     "duration": 0.044348,
     "end_time": "2022-01-01T07:41:55.758996",
     "exception": false,
     "start_time": "2022-01-01T07:41:55.714648",
     "status": "completed"
    },
    "tags": []
   },
   "outputs": [],
   "source": [
    "#Calling the funtion to encode the sentiments column\n",
    "custom_encoder(sent['Sentiment'])"
   ]
  },
  {
   "cell_type": "code",
   "execution_count": 9,
   "id": "17e45c28",
   "metadata": {
    "execution": {
     "iopub.execute_input": "2022-01-01T07:41:55.815645Z",
     "iopub.status.busy": "2022-01-01T07:41:55.815013Z",
     "iopub.status.idle": "2022-01-01T07:41:55.817818Z",
     "shell.execute_reply": "2022-01-01T07:41:55.818378Z",
     "shell.execute_reply.started": "2022-01-01T07:33:25.713761Z"
    },
    "papermill": {
     "duration": 0.03237,
     "end_time": "2022-01-01T07:41:55.818550",
     "exception": false,
     "start_time": "2022-01-01T07:41:55.786180",
     "status": "completed"
    },
    "tags": []
   },
   "outputs": [],
   "source": [
    "#Creating an object of WordNetLemmatizer\n",
    "lm = WordNetLemmatizer()"
   ]
  },
  {
   "cell_type": "code",
   "execution_count": 10,
   "id": "6b1ae79b",
   "metadata": {
    "execution": {
     "iopub.execute_input": "2022-01-01T07:41:55.884644Z",
     "iopub.status.busy": "2022-01-01T07:41:55.879291Z",
     "iopub.status.idle": "2022-01-01T07:41:55.885876Z",
     "shell.execute_reply": "2022-01-01T07:41:55.886665Z",
     "shell.execute_reply.started": "2022-01-01T07:33:25.730272Z"
    },
    "papermill": {
     "duration": 0.04237,
     "end_time": "2022-01-01T07:41:55.886943",
     "exception": false,
     "start_time": "2022-01-01T07:41:55.844573",
     "status": "completed"
    },
    "tags": []
   },
   "outputs": [],
   "source": [
    "# Function to preprocess text column to remove any characters other than alphabets, lemmatize the text, convert to lowercase\n",
    "def data_preprocessing(text_col):\n",
    "    corpus = []\n",
    "    for row in text_col:\n",
    "        new_row = re.sub('[^a-zA-Z]',' ',str(row)).lower().split()\n",
    "        new_row = [lm.lemmatize(word) for word in new_row if word not in set(stopwords.words('english'))]\n",
    "        corpus.append(' '.join(str(x) for x in new_row))\n",
    "    return corpus"
   ]
  },
  {
   "cell_type": "code",
   "execution_count": 11,
   "id": "523eb83b",
   "metadata": {
    "execution": {
     "iopub.execute_input": "2022-01-01T07:41:55.961946Z",
     "iopub.status.busy": "2022-01-01T07:41:55.958016Z",
     "iopub.status.idle": "2022-01-01T07:42:12.077682Z",
     "shell.execute_reply": "2022-01-01T07:42:12.077156Z",
     "shell.execute_reply.started": "2022-01-01T07:33:25.751202Z"
    },
    "papermill": {
     "duration": 16.157216,
     "end_time": "2022-01-01T07:42:12.077844",
     "exception": false,
     "start_time": "2022-01-01T07:41:55.920628",
     "status": "completed"
    },
    "tags": []
   },
   "outputs": [],
   "source": [
    "transformed = data_preprocessing(sent['Utterance'])"
   ]
  },
  {
   "cell_type": "code",
   "execution_count": 12,
   "id": "c4533444",
   "metadata": {
    "execution": {
     "iopub.execute_input": "2022-01-01T07:42:12.134446Z",
     "iopub.status.busy": "2022-01-01T07:42:12.133843Z",
     "iopub.status.idle": "2022-01-01T07:42:12.136813Z",
     "shell.execute_reply": "2022-01-01T07:42:12.137357Z",
     "shell.execute_reply.started": "2022-01-01T07:33:40.171697Z"
    },
    "papermill": {
     "duration": 0.03244,
     "end_time": "2022-01-01T07:42:12.137525",
     "exception": false,
     "start_time": "2022-01-01T07:42:12.105085",
     "status": "completed"
    },
    "tags": []
   },
   "outputs": [],
   "source": [
    "#transformed"
   ]
  },
  {
   "cell_type": "code",
   "execution_count": 13,
   "id": "f96660ee",
   "metadata": {
    "execution": {
     "iopub.execute_input": "2022-01-01T07:42:12.207126Z",
     "iopub.status.busy": "2022-01-01T07:42:12.201588Z",
     "iopub.status.idle": "2022-01-01T07:42:12.209872Z",
     "shell.execute_reply": "2022-01-01T07:42:12.209354Z",
     "shell.execute_reply.started": "2022-01-01T07:33:40.178087Z"
    },
    "papermill": {
     "duration": 0.044598,
     "end_time": "2022-01-01T07:42:12.210023",
     "exception": false,
     "start_time": "2022-01-01T07:42:12.165425",
     "status": "completed"
    },
    "tags": []
   },
   "outputs": [],
   "source": [
    "# In the above data preprocessing step there were some empty strings. \n",
    "#Creating a dataframe to deal and remove those empty strings\n",
    "tr_df = pd.DataFrame(zip(transformed,sent['Sentiment']), columns= ['Utterance','Sentiment'])"
   ]
  },
  {
   "cell_type": "code",
   "execution_count": 14,
   "id": "13058c4b",
   "metadata": {
    "execution": {
     "iopub.execute_input": "2022-01-01T07:42:12.269766Z",
     "iopub.status.busy": "2022-01-01T07:42:12.268700Z",
     "iopub.status.idle": "2022-01-01T07:42:12.270709Z",
     "shell.execute_reply": "2022-01-01T07:42:12.271340Z",
     "shell.execute_reply.started": "2022-01-01T07:33:40.220148Z"
    },
    "papermill": {
     "duration": 0.035247,
     "end_time": "2022-01-01T07:42:12.271507",
     "exception": false,
     "start_time": "2022-01-01T07:42:12.236260",
     "status": "completed"
    },
    "tags": []
   },
   "outputs": [],
   "source": [
    "#Function to get the indices of the empty strings\n",
    "def get_idx(df):   \n",
    "    indexes = []\n",
    "    for i,dialogue in enumerate(df):\n",
    "        if len(dialogue) == 0:\n",
    "            empty = df.index\n",
    "            #print(empty)\n",
    "            indexes.append(i)\n",
    "    return indexes"
   ]
  },
  {
   "cell_type": "code",
   "execution_count": 15,
   "id": "421d096a",
   "metadata": {
    "execution": {
     "iopub.execute_input": "2022-01-01T07:42:12.327261Z",
     "iopub.status.busy": "2022-01-01T07:42:12.326322Z",
     "iopub.status.idle": "2022-01-01T07:42:12.333083Z",
     "shell.execute_reply": "2022-01-01T07:42:12.333651Z",
     "shell.execute_reply.started": "2022-01-01T07:33:40.236217Z"
    },
    "papermill": {
     "duration": 0.036143,
     "end_time": "2022-01-01T07:42:12.333837",
     "exception": false,
     "start_time": "2022-01-01T07:42:12.297694",
     "status": "completed"
    },
    "tags": []
   },
   "outputs": [],
   "source": [
    "empty_idx = get_idx(tr_df['Utterance'])"
   ]
  },
  {
   "cell_type": "code",
   "execution_count": 16,
   "id": "c71e4e84",
   "metadata": {
    "execution": {
     "iopub.execute_input": "2022-01-01T07:42:12.390562Z",
     "iopub.status.busy": "2022-01-01T07:42:12.389610Z",
     "iopub.status.idle": "2022-01-01T07:42:12.403367Z",
     "shell.execute_reply": "2022-01-01T07:42:12.403874Z",
     "shell.execute_reply.started": "2022-01-01T07:33:40.259277Z"
    },
    "papermill": {
     "duration": 0.044363,
     "end_time": "2022-01-01T07:42:12.404071",
     "exception": false,
     "start_time": "2022-01-01T07:42:12.359708",
     "status": "completed"
    },
    "tags": []
   },
   "outputs": [
    {
     "data": {
      "text/html": [
       "<div>\n",
       "<style scoped>\n",
       "    .dataframe tbody tr th:only-of-type {\n",
       "        vertical-align: middle;\n",
       "    }\n",
       "\n",
       "    .dataframe tbody tr th {\n",
       "        vertical-align: top;\n",
       "    }\n",
       "\n",
       "    .dataframe thead th {\n",
       "        text-align: right;\n",
       "    }\n",
       "</style>\n",
       "<table border=\"1\" class=\"dataframe\">\n",
       "  <thead>\n",
       "    <tr style=\"text-align: right;\">\n",
       "      <th></th>\n",
       "      <th>index</th>\n",
       "      <th>Utterance</th>\n",
       "      <th>Sentiment</th>\n",
       "    </tr>\n",
       "  </thead>\n",
       "  <tbody>\n",
       "    <tr>\n",
       "      <th>0</th>\n",
       "      <td>0</td>\n",
       "      <td>also point person company transition kl gr system</td>\n",
       "      <td>0</td>\n",
       "    </tr>\n",
       "    <tr>\n",
       "      <th>1</th>\n",
       "      <td>1</td>\n",
       "      <td>must hand full</td>\n",
       "      <td>0</td>\n",
       "    </tr>\n",
       "    <tr>\n",
       "      <th>2</th>\n",
       "      <td>3</td>\n",
       "      <td>let talk little bit duty</td>\n",
       "      <td>0</td>\n",
       "    </tr>\n",
       "    <tr>\n",
       "      <th>3</th>\n",
       "      <td>4</td>\n",
       "      <td>duty right</td>\n",
       "      <td>1</td>\n",
       "    </tr>\n",
       "    <tr>\n",
       "      <th>4</th>\n",
       "      <td>5</td>\n",
       "      <td>heading whole division lot duty</td>\n",
       "      <td>0</td>\n",
       "    </tr>\n",
       "    <tr>\n",
       "      <th>...</th>\n",
       "      <td>...</td>\n",
       "      <td>...</td>\n",
       "      <td>...</td>\n",
       "    </tr>\n",
       "    <tr>\n",
       "      <th>10535</th>\n",
       "      <td>11092</td>\n",
       "      <td>mean gonna live together anymore</td>\n",
       "      <td>-1</td>\n",
       "    </tr>\n",
       "    <tr>\n",
       "      <th>10536</th>\n",
       "      <td>11094</td>\n",
       "      <td>oh god gonna miss much</td>\n",
       "      <td>-1</td>\n",
       "    </tr>\n",
       "    <tr>\n",
       "      <th>10537</th>\n",
       "      <td>11095</td>\n",
       "      <td>gonna miss</td>\n",
       "      <td>-1</td>\n",
       "    </tr>\n",
       "    <tr>\n",
       "      <th>10538</th>\n",
       "      <td>11096</td>\n",
       "      <td>mean end era</td>\n",
       "      <td>-1</td>\n",
       "    </tr>\n",
       "    <tr>\n",
       "      <th>10539</th>\n",
       "      <td>11097</td>\n",
       "      <td>know</td>\n",
       "      <td>-1</td>\n",
       "    </tr>\n",
       "  </tbody>\n",
       "</table>\n",
       "<p>10540 rows × 3 columns</p>\n",
       "</div>"
      ],
      "text/plain": [
       "       index                                          Utterance  Sentiment\n",
       "0          0  also point person company transition kl gr system          0\n",
       "1          1                                     must hand full          0\n",
       "2          3                           let talk little bit duty          0\n",
       "3          4                                         duty right          1\n",
       "4          5                    heading whole division lot duty          0\n",
       "...      ...                                                ...        ...\n",
       "10535  11092                   mean gonna live together anymore         -1\n",
       "10536  11094                             oh god gonna miss much         -1\n",
       "10537  11095                                         gonna miss         -1\n",
       "10538  11096                                       mean end era         -1\n",
       "10539  11097                                               know         -1\n",
       "\n",
       "[10540 rows x 3 columns]"
      ]
     },
     "execution_count": 16,
     "metadata": {},
     "output_type": "execute_result"
    }
   ],
   "source": [
    "#Dropping the empty strings\n",
    "clean_df = tr_df.drop(empty_idx)\n",
    "clean_df.reset_index()"
   ]
  },
  {
   "cell_type": "code",
   "execution_count": 17,
   "id": "0a9b0d16",
   "metadata": {
    "execution": {
     "iopub.execute_input": "2022-01-01T07:42:12.460729Z",
     "iopub.status.busy": "2022-01-01T07:42:12.459811Z",
     "iopub.status.idle": "2022-01-01T07:42:12.463990Z",
     "shell.execute_reply": "2022-01-01T07:42:12.464509Z",
     "shell.execute_reply.started": "2022-01-01T07:33:40.278975Z"
    },
    "papermill": {
     "duration": 0.034078,
     "end_time": "2022-01-01T07:42:12.464675",
     "exception": false,
     "start_time": "2022-01-01T07:42:12.430597",
     "status": "completed"
    },
    "tags": []
   },
   "outputs": [],
   "source": [
    "text = clean_df['Utterance'].to_list()"
   ]
  },
  {
   "cell_type": "code",
   "execution_count": 18,
   "id": "84622d92",
   "metadata": {
    "execution": {
     "iopub.execute_input": "2022-01-01T07:42:12.522543Z",
     "iopub.status.busy": "2022-01-01T07:42:12.521500Z",
     "iopub.status.idle": "2022-01-01T07:42:12.524591Z",
     "shell.execute_reply": "2022-01-01T07:42:12.525127Z",
     "shell.execute_reply.started": "2022-01-01T07:33:40.285115Z"
    },
    "papermill": {
     "duration": 0.033833,
     "end_time": "2022-01-01T07:42:12.525294",
     "exception": false,
     "start_time": "2022-01-01T07:42:12.491461",
     "status": "completed"
    },
    "tags": []
   },
   "outputs": [],
   "source": [
    "#clean_df['Sentiment'].value_counts()"
   ]
  },
  {
   "cell_type": "markdown",
   "id": "360d433a",
   "metadata": {
    "papermill": {
     "duration": 0.026175,
     "end_time": "2022-01-01T07:42:12.578288",
     "exception": false,
     "start_time": "2022-01-01T07:42:12.552113",
     "status": "completed"
    },
    "tags": []
   },
   "source": [
    "## Using TFIDF"
   ]
  },
  {
   "cell_type": "code",
   "execution_count": 19,
   "id": "32881a81",
   "metadata": {
    "execution": {
     "iopub.execute_input": "2022-01-01T07:42:12.634599Z",
     "iopub.status.busy": "2022-01-01T07:42:12.633977Z",
     "iopub.status.idle": "2022-01-01T07:42:12.828681Z",
     "shell.execute_reply": "2022-01-01T07:42:12.828113Z",
     "shell.execute_reply.started": "2022-01-01T07:33:40.299740Z"
    },
    "papermill": {
     "duration": 0.223575,
     "end_time": "2022-01-01T07:42:12.828847",
     "exception": false,
     "start_time": "2022-01-01T07:42:12.605272",
     "status": "completed"
    },
    "tags": []
   },
   "outputs": [],
   "source": [
    "# Creating an instance of TFIDF\n",
    "vectorizer = TfidfVectorizer(use_idf=True, norm= 'l1', ngram_range=(2,2))\n",
    "traindata = vectorizer.fit_transform(text)"
   ]
  },
  {
   "cell_type": "code",
   "execution_count": 20,
   "id": "e433f579",
   "metadata": {
    "execution": {
     "iopub.execute_input": "2022-01-01T07:42:12.889267Z",
     "iopub.status.busy": "2022-01-01T07:42:12.888582Z",
     "iopub.status.idle": "2022-01-01T07:42:12.890272Z",
     "shell.execute_reply": "2022-01-01T07:42:12.890822Z",
     "shell.execute_reply.started": "2022-01-01T07:33:40.448372Z"
    },
    "papermill": {
     "duration": 0.034811,
     "end_time": "2022-01-01T07:42:12.890985",
     "exception": false,
     "start_time": "2022-01-01T07:42:12.856174",
     "status": "completed"
    },
    "tags": []
   },
   "outputs": [],
   "source": [
    "#len(vectorizer.get_feature_names())\n",
    "#traindata"
   ]
  },
  {
   "cell_type": "code",
   "execution_count": 21,
   "id": "19d41a5e",
   "metadata": {
    "execution": {
     "iopub.execute_input": "2022-01-01T07:42:12.947075Z",
     "iopub.status.busy": "2022-01-01T07:42:12.946465Z",
     "iopub.status.idle": "2022-01-01T07:42:12.950250Z",
     "shell.execute_reply": "2022-01-01T07:42:12.950815Z",
     "shell.execute_reply.started": "2022-01-01T07:33:40.453423Z"
    },
    "papermill": {
     "duration": 0.033401,
     "end_time": "2022-01-01T07:42:12.950973",
     "exception": false,
     "start_time": "2022-01-01T07:42:12.917572",
     "status": "completed"
    },
    "tags": []
   },
   "outputs": [],
   "source": [
    "# Parameters for Gridsearch\n",
    "parameters = {'n_estimators': [100,150,200],\n",
    "             'max_depth': [30,40,50],\n",
    "             'min_samples_split': [15,20,30],\n",
    "             'min_samples_leaf': [2, 5]\n",
    "             }"
   ]
  },
  {
   "cell_type": "code",
   "execution_count": 22,
   "id": "4451cb5c",
   "metadata": {
    "execution": {
     "iopub.execute_input": "2022-01-01T07:42:13.007784Z",
     "iopub.status.busy": "2022-01-01T07:42:13.007114Z",
     "iopub.status.idle": "2022-01-01T07:50:14.109063Z",
     "shell.execute_reply": "2022-01-01T07:50:14.109588Z",
     "shell.execute_reply.started": "2022-01-01T07:33:40.468546Z"
    },
    "papermill": {
     "duration": 481.131941,
     "end_time": "2022-01-01T07:50:14.109776",
     "exception": false,
     "start_time": "2022-01-01T07:42:12.977835",
     "status": "completed"
    },
    "tags": []
   },
   "outputs": [
    {
     "data": {
      "text/plain": [
       "{'max_depth': 50,\n",
       " 'min_samples_leaf': 2,\n",
       " 'min_samples_split': 30,\n",
       " 'n_estimators': 150}"
      ]
     },
     "execution_count": 22,
     "metadata": {},
     "output_type": "execute_result"
    }
   ],
   "source": [
    "grid_search = GridSearchCV(RandomForestClassifier(),parameters,cv=5,return_train_score=True,n_jobs=-1)\n",
    "grid_search.fit(traindata,clean_df['Sentiment'])\n",
    "grid_search.best_params_"
   ]
  },
  {
   "cell_type": "code",
   "execution_count": 23,
   "id": "ad03e16b",
   "metadata": {
    "execution": {
     "iopub.execute_input": "2022-01-01T07:50:14.173258Z",
     "iopub.status.busy": "2022-01-01T07:50:14.172551Z",
     "iopub.status.idle": "2022-01-01T07:50:14.981179Z",
     "shell.execute_reply": "2022-01-01T07:50:14.980584Z",
     "shell.execute_reply.started": "2022-01-01T07:40:18.443076Z"
    },
    "papermill": {
     "duration": 0.842856,
     "end_time": "2022-01-01T07:50:14.981328",
     "exception": false,
     "start_time": "2022-01-01T07:50:14.138472",
     "status": "completed"
    },
    "tags": []
   },
   "outputs": [
    {
     "data": {
      "text/plain": [
       "RandomForestClassifier(max_depth=50, min_samples_leaf=2, min_samples_split=30,\n",
       "                       n_estimators=150)"
      ]
     },
     "execution_count": 23,
     "metadata": {},
     "output_type": "execute_result"
    }
   ],
   "source": [
    "# Implementing Random Forest\n",
    "rfc = RandomForestClassifier(max_depth=grid_search.best_params_['max_depth'],\n",
    "                             n_estimators=grid_search.best_params_['n_estimators'],\n",
    "                             min_samples_split=grid_search.best_params_['min_samples_split'],\n",
    "                             min_samples_leaf=grid_search.best_params_['min_samples_leaf']\n",
    "                            )\n",
    "rfc.fit(traindata,clean_df['Sentiment'])"
   ]
  },
  {
   "cell_type": "markdown",
   "id": "0382ccd4",
   "metadata": {
    "execution": {
     "iopub.execute_input": "2022-01-01T05:15:28.343496Z",
     "iopub.status.busy": "2022-01-01T05:15:28.343221Z",
     "iopub.status.idle": "2022-01-01T05:15:28.367403Z",
     "shell.execute_reply": "2022-01-01T05:15:28.366357Z",
     "shell.execute_reply.started": "2022-01-01T05:15:28.343467Z"
    },
    "papermill": {
     "duration": 0.026712,
     "end_time": "2022-01-01T07:50:15.035385",
     "exception": false,
     "start_time": "2022-01-01T07:50:15.008673",
     "status": "completed"
    },
    "tags": []
   },
   "source": [
    "\n",
    "from sklearn.naive_bayes import MultinomialNB\n",
    "\n",
    "nb = MultinomialNB(alpha=0.75)\n",
    "nb.fit(traindata,clean_df['Sentiment'])"
   ]
  },
  {
   "cell_type": "code",
   "execution_count": 24,
   "id": "bbb60a72",
   "metadata": {
    "execution": {
     "iopub.execute_input": "2022-01-01T07:50:15.093517Z",
     "iopub.status.busy": "2022-01-01T07:50:15.092891Z",
     "iopub.status.idle": "2022-01-01T07:50:15.099342Z",
     "shell.execute_reply": "2022-01-01T07:50:15.099868Z",
     "shell.execute_reply.started": "2022-01-01T07:40:19.411878Z"
    },
    "papermill": {
     "duration": 0.03749,
     "end_time": "2022-01-01T07:50:15.100057",
     "exception": false,
     "start_time": "2022-01-01T07:50:15.062567",
     "status": "completed"
    },
    "tags": []
   },
   "outputs": [],
   "source": [
    "# Working with test dataset\n",
    "test_df = test[['Utterance','Sentiment']]\n",
    "X_test,y_test = test_df['Utterance'],test_df['Sentiment']\n"
   ]
  },
  {
   "cell_type": "code",
   "execution_count": 25,
   "id": "f431d1df",
   "metadata": {
    "execution": {
     "iopub.execute_input": "2022-01-01T07:50:15.162029Z",
     "iopub.status.busy": "2022-01-01T07:50:15.161336Z",
     "iopub.status.idle": "2022-01-01T07:50:18.696313Z",
     "shell.execute_reply": "2022-01-01T07:50:18.696829Z",
     "shell.execute_reply.started": "2022-01-01T07:40:19.420930Z"
    },
    "papermill": {
     "duration": 3.569617,
     "end_time": "2022-01-01T07:50:18.697031",
     "exception": false,
     "start_time": "2022-01-01T07:50:15.127414",
     "status": "completed"
    },
    "tags": []
   },
   "outputs": [],
   "source": [
    "#Pre-processing text data\n",
    "test_transformed = data_preprocessing(X_test)\n",
    "test_tr_df = pd.DataFrame(zip(test_transformed,test['Sentiment']), \n",
    "                                   columns= ['Utterance','Sentiment'])\n",
    "empty_test_idx = get_idx(test_tr_df['Utterance'])\n",
    "clean_test_df = test_tr_df.drop(empty_test_idx)\n",
    "\n",
    "#Convert text data into vectors\n",
    "test_text = clean_test_df['Utterance'].to_list()\n",
    "testdata = vectorizer.transform(test_text)\n",
    "X_test,y_test = clean_test_df['Utterance'],clean_test_df['Sentiment']\n",
    "\n",
    "#Encode the labels into three classes 0, 1, and -1\n",
    "custom_encoder(y_test)"
   ]
  },
  {
   "cell_type": "code",
   "execution_count": 26,
   "id": "ca0c4dc2",
   "metadata": {
    "execution": {
     "iopub.execute_input": "2022-01-01T07:50:18.755222Z",
     "iopub.status.busy": "2022-01-01T07:50:18.754544Z",
     "iopub.status.idle": "2022-01-01T07:50:18.846059Z",
     "shell.execute_reply": "2022-01-01T07:50:18.846611Z",
     "shell.execute_reply.started": "2022-01-01T07:40:22.311761Z"
    },
    "papermill": {
     "duration": 0.122175,
     "end_time": "2022-01-01T07:50:18.846780",
     "exception": false,
     "start_time": "2022-01-01T07:50:18.724605",
     "status": "completed"
    },
    "tags": []
   },
   "outputs": [],
   "source": [
    "#predict the target\n",
    "predictions = rfc.predict(testdata)"
   ]
  },
  {
   "cell_type": "markdown",
   "id": "a4fa8a75",
   "metadata": {
    "papermill": {
     "duration": 0.02664,
     "end_time": "2022-01-01T07:50:18.900842",
     "exception": false,
     "start_time": "2022-01-01T07:50:18.874202",
     "status": "completed"
    },
    "tags": []
   },
   "source": [
    "### Evaluating the results"
   ]
  },
  {
   "cell_type": "code",
   "execution_count": 27,
   "id": "dbf4c2bf",
   "metadata": {
    "execution": {
     "iopub.execute_input": "2022-01-01T07:50:18.968403Z",
     "iopub.status.busy": "2022-01-01T07:50:18.967628Z",
     "iopub.status.idle": "2022-01-01T07:50:19.282609Z",
     "shell.execute_reply": "2022-01-01T07:50:19.283090Z",
     "shell.execute_reply.started": "2022-01-01T07:40:22.383820Z"
    },
    "papermill": {
     "duration": 0.355328,
     "end_time": "2022-01-01T07:50:19.283268",
     "exception": false,
     "start_time": "2022-01-01T07:50:18.927940",
     "status": "completed"
    },
    "tags": []
   },
   "outputs": [
    {
     "name": "stdout",
     "output_type": "stream",
     "text": [
      "Accuracy_score:  0.499\n",
      "Precision_score:  0.66\n",
      "Recall_score:  0.5\n",
      "-------------------------------------------------------\n",
      "              precision    recall  f1-score   support\n",
      "\n",
      "          -1       0.70      0.05      0.09       781\n",
      "           0       0.49      1.00      0.66      1203\n",
      "           1       1.00      0.01      0.02       505\n",
      "\n",
      "    accuracy                           0.50      2489\n",
      "   macro avg       0.73      0.35      0.26      2489\n",
      "weighted avg       0.66      0.50      0.35      2489\n",
      "\n"
     ]
    },
    {
     "data": {
      "text/plain": [
       "<Figure size 864x576 with 0 Axes>"
      ]
     },
     "metadata": {},
     "output_type": "display_data"
    },
    {
     "data": {
      "image/png": "[encoded data removed]",
      "text/plain": [
       "<Figure size 432x288 with 2 Axes>"
      ]
     },
     "metadata": {
      "needs_background": "light"
     },
     "output_type": "display_data"
    }
   ],
   "source": [
    "# Calculating Accuracy, Precision, and Recall scores\n",
    "plt.figure(figsize = (12,8))\n",
    "plot_confusion_matrix(y_test,predictions)\n",
    "acc_score = round(accuracy_score(y_test,predictions),3)\n",
    "pre_score = round(precision_score(y_test,predictions,average='weighted'),2)\n",
    "rec_score = round(recall_score(y_test,predictions,average='weighted'),2)\n",
    "\n",
    "print('Accuracy_score: ',acc_score)\n",
    "print('Precision_score: ',pre_score )\n",
    "print('Recall_score: ',rec_score)\n",
    "print(\"-\"*55)\n",
    "\n",
    "# Generating Classification Report\n",
    "cr = classification_report(y_test,predictions)\n",
    "print(cr)"
   ]
  },
  {
   "cell_type": "code",
   "execution_count": null,
   "id": "b0302452",
   "metadata": {
    "papermill": {
     "duration": 0.029393,
     "end_time": "2022-01-01T07:50:19.341591",
     "exception": false,
     "start_time": "2022-01-01T07:50:19.312198",
     "status": "completed"
    },
    "tags": []
   },
   "outputs": [],
   "source": []
  },
  {
   "cell_type": "code",
   "execution_count": null,
   "id": "b86cc586",
   "metadata": {
    "papermill": {
     "duration": 0.02844,
     "end_time": "2022-01-01T07:50:19.399610",
     "exception": false,
     "start_time": "2022-01-01T07:50:19.371170",
     "status": "completed"
    },
    "tags": []
   },
   "outputs": [],
   "source": []
  }
 ],
 "metadata": {
  "kernelspec": {
   "display_name": "Python 3",
   "language": "python",
   "name": "python3"
  },
  "language_info": {
   "codemirror_mode": {
    "name": "ipython",
    "version": 3
   },
   "file_extension": ".py",
   "mimetype": "text/x-python",
   "name": "python",
   "nbconvert_exporter": "python",
   "pygments_lexer": "ipython3",
   "version": "3.7.12"
  },
  "papermill": {
   "default_parameters": {},
   "duration": 527.883632,
   "end_time": "2022-01-01T07:50:22.366686",
   "environment_variables": {},
   "exception": null,
   "input_path": "__notebook__.ipynb",
   "output_path": "__notebook__.ipynb",
   "parameters": {},
   "start_time": "2022-01-01T07:41:34.483054",
   "version": "2.3.3"
  }
 },
 "nbformat": 4,
 "nbformat_minor": 5
}
